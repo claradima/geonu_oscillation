{
 "cells": [
  {
   "cell_type": "markdown",
   "id": "36c5d1e2-a36e-42aa-971b-5840865ab9d1",
   "metadata": {},
   "source": [
    "Here I am testing out how array broadcasting works in numpy. I want to make 2D arrays out of 1D arrays without looping, but by using broadcasting.\n",
    "\n",
    "For examle, I want to make an array arr_3 out of arr_1 and arr_2 such that arr_3[i][j] = arr_1[i] * arr_2[j] (or some other definition, but we start with this). The point of this is to more efficiently implement the formulas I need for the geonu stuff (survival probability etc) so I don't need to use nested loops and I can make things more efficient."
   ]
  },
  {
   "cell_type": "code",
   "execution_count": 1,
   "id": "baaf0602-79fb-4d2c-aea1-27bba10a4d12",
   "metadata": {},
   "outputs": [],
   "source": [
    "import numpy as np"
   ]
  },
  {
   "cell_type": "code",
   "execution_count": 2,
   "id": "33c92c01-a6b0-4599-baeb-c33d69b236b7",
   "metadata": {},
   "outputs": [],
   "source": [
    "arr_1 = np.array([1, 2, 3])\n",
    "arr_2 = np.array([4, 5, 6])"
   ]
  },
  {
   "cell_type": "code",
   "execution_count": 3,
   "id": "803a4d89-89e9-4b54-b867-78452841cff3",
   "metadata": {},
   "outputs": [],
   "source": [
    "reshaped_arr_1 = arr_1[:, np.newaxis] \n"
   ]
  },
  {
   "cell_type": "code",
   "execution_count": 5,
   "id": "70922b1b-69c8-49b6-bc53-0718ee346b93",
   "metadata": {},
   "outputs": [
    {
     "name": "stdout",
     "output_type": "stream",
     "text": [
      "[[1]\n",
      " [2]\n",
      " [3]]\n"
     ]
    }
   ],
   "source": [
    "print(reshaped_arr_1) # it becomes a 2D column vector"
   ]
  },
  {
   "cell_type": "code",
   "execution_count": 6,
   "id": "a51164aa-1809-4ecd-8644-d635f41a11ca",
   "metadata": {},
   "outputs": [],
   "source": [
    "reshaped_arr_2 = arr_2[np.newaxis, :] # it becomes a 2D row vector "
   ]
  },
  {
   "cell_type": "code",
   "execution_count": 7,
   "id": "90279db8-194a-464b-95dc-a6419538e848",
   "metadata": {},
   "outputs": [
    {
     "name": "stdout",
     "output_type": "stream",
     "text": [
      "[[4 5 6]]\n"
     ]
    }
   ],
   "source": [
    "print(reshaped_arr_2)"
   ]
  },
  {
   "cell_type": "code",
   "execution_count": 8,
   "id": "bb24836b-a2dc-490c-b36f-094c912d229b",
   "metadata": {},
   "outputs": [
    {
     "name": "stdout",
     "output_type": "stream",
     "text": [
      "[[ 4  5  6]\n",
      " [ 8 10 12]\n",
      " [12 15 18]]\n"
     ]
    }
   ],
   "source": [
    "arr_3 = reshaped_arr_1 * reshaped_arr_2\n",
    "print(arr_3)"
   ]
  },
  {
   "cell_type": "code",
   "execution_count": null,
   "id": "a35c4cf5-9429-4176-9e92-ad3daa31a1e2",
   "metadata": {},
   "outputs": [],
   "source": [
    "# can do this for more complicated functions as well\n",
    "\n"
   ]
  },
  {
   "cell_type": "markdown",
   "id": "7a24bb20-fe02-42b8-a273-6e51242dc1be",
   "metadata": {},
   "source": [
    "More generally, broadcasting can replace for loops in a much more efficient way. This is how to figure out the equivalence between a for loop and an operation between broadcasted arrays.\n",
    "\n",
    "To check if two arrays of dimentsions (a_n, a_{n-1}, ... a_1) and (b_m, ... b_1) are compatible, do this:\n",
    "\n",
    "1) Move the tuple of dimensions of the array with fewer dimensions to the left and fill in with ones to the right until the number of dimensions is the same. If the a one was shorter, this means the dimensions of the new arrays will be (1, 1, ..., 1, a_n,..., a_1) and (b_m, ... b_1)\n",
    "2) We go one by one looking at the dimensions to check if they 'match'. There is the match eiher if they are the same, or if one of them is equal to 1\n",
    "\n",
    "Now, if we were working with arrays of these dimensions, there would be an index for each dimension. If the dimension is one, the only valid index would be 0. So if we calculate a function of \"ordinary\" maths operations (multiplication, addition, etc) f(x, y), if x and y are our arrays, and let's say z is the result, we'll have, for example:\n",
    "\n",
    "$$z[i, j] = f( x[i, j], y[i, j])$$\n",
    "\n",
    "If we look at the index corresponding to a dimension of 1, that can only be 0; so if x only had dimension corresponding to index j initially and we broadcasted it to match y, that will mean:\n",
    "\n",
    "$$z[i, j] = f( x[0, j], y[i, j])$$\n",
    "\n",
    "If dimension j was initially 1 for y, this will further imply:\n",
    "\n",
    "$$z[i, j] = f( x[0, j], y[i, 0])$$"
   ]
  },
  {
   "cell_type": "code",
   "execution_count": 10,
   "id": "c42868e3-5281-4f22-9bc6-d85776b91e6b",
   "metadata": {},
   "outputs": [
    {
     "name": "stdout",
     "output_type": "stream",
     "text": [
      "(3, 1)\n",
      "(1, 3)\n"
     ]
    }
   ],
   "source": [
    "print(np.shape(reshaped_arr_1))\n",
    "print(np.shape(reshaped_arr_2))"
   ]
  },
  {
   "cell_type": "markdown",
   "id": "33c35f9f-1cf9-4919-8cbe-8de634b62ae4",
   "metadata": {},
   "source": [
    "Note: when you use np.newaxis in array indexing, it adds a new axis(dimension) with length one to the array."
   ]
  },
  {
   "cell_type": "code",
   "execution_count": null,
   "id": "bbb7da5a-98ff-4548-a31a-a9bda1dbb91b",
   "metadata": {},
   "outputs": [],
   "source": []
  }
 ],
 "metadata": {
  "kernelspec": {
   "display_name": "Python 3 (ipykernel)",
   "language": "python",
   "name": "python3"
  },
  "language_info": {
   "codemirror_mode": {
    "name": "ipython",
    "version": 3
   },
   "file_extension": ".py",
   "mimetype": "text/x-python",
   "name": "python",
   "nbconvert_exporter": "python",
   "pygments_lexer": "ipython3",
   "version": "3.10.12"
  }
 },
 "nbformat": 4,
 "nbformat_minor": 5
}
