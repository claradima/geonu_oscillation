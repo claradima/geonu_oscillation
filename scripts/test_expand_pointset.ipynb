{
 "cells": [
  {
   "cell_type": "code",
   "execution_count": null,
   "id": "initial_id",
   "metadata": {
    "collapsed": true
   },
   "outputs": [],
   "source": [
    ""
   ]
  },
  {
   "metadata": {
    "ExecuteTime": {
     "end_time": "2024-11-29T23:22:01.891933Z",
     "start_time": "2024-11-29T23:22:01.889441Z"
    }
   },
   "cell_type": "code",
   "source": [
    "import numpy as np\n",
    "import matplotlib.pyplot as plt\n",
    "import sys\n",
    "import gc\n",
    "import psutil\n",
    "import os\n",
    "import argparse\n",
    "\n",
    "from functions import *\n",
    "from test_functions import *"
   ],
   "id": "9d97e3f00d2cdf5c",
   "outputs": [],
   "execution_count": 11
  },
  {
   "metadata": {
    "ExecuteTime": {
     "end_time": "2024-11-29T23:52:33.662712Z",
     "start_time": "2024-11-29T23:52:33.658962Z"
    }
   },
   "cell_type": "code",
   "source": [
    "# generate a grid\n",
    "\n",
    "grid_specs, grid_1d_size = create_3d_grid(grid_counts=7, halfside = 5)\n",
    "\n",
    "grid_points_expanded = cut_shell(inner_rad = 0, outer_rad = 15, sublayers=1, grid_specs=grid_specs)\n"
   ],
   "id": "41e756c2aefa9b76",
   "outputs": [
    {
     "name": "stdout",
     "output_type": "stream",
     "text": [
      "[-5.         -3.33333333 -1.66666667  0.          1.66666667  3.33333333\n",
      "  5.        ]\n",
      "1d coords created\n",
      "Current memory usage: 155.87 MB\n",
      "meshgriding now\n",
      "done\n",
      "Current memory usage: 155.87 MB\n",
      "don't need 1d coords anymore; delete\n",
      "deleted\n",
      "Current memory usage: 155.87 MB\n",
      "computing distances and putting grid specs together\n",
      "grid specs put together\n",
      "Current memory usage: 155.87 MB\n",
      "checking if deleting separate x_coords does anything\n",
      "deleted\n",
      "Current memory usage: 155.87 MB\n",
      "Subshell 1 grid done (out of 1); limits: 0.0 , 15.0\n"
     ]
    }
   ],
   "execution_count": 72
  },
  {
   "metadata": {
    "ExecuteTime": {
     "end_time": "2024-11-29T23:52:35.764351Z",
     "start_time": "2024-11-29T23:52:35.746074Z"
    }
   },
   "cell_type": "code",
   "source": [
    "enlarged_points = grid_points_expanded[0]\n",
    "#print(f'enlarged_points : {enlarged_points}')\n",
    "print(f'len(enlarged_points) = {len(enlarged_points)}')\n",
    "print(f'len(enlarged_points) = {len(enlarged_points)}')\n",
    "#for i in range(len(enlarged_points)):\n",
    "#    print(f'enlarged_points[{i}]: {enlarged_points[i]}')\n",
    "added_points = create_midpoints(points_array = enlarged_points, spacing_1d = grid_1d_size, acc = None )\n",
    "print(f'len(added_points) = {len(added_points)}')\n",
    "print(f'len(added_points) + len(enlarged_points) = {len(added_points) + len(enlarged_points)}')\n",
    "\n",
    "#no = enlarged_points\n",
    "\n",
    "enlarged_points = np.concatenate((enlarged_points, added_points), axis=0)\n",
    "print(f'len of enlarged points after concatenation = {len(enlarged_points)}')\n",
    "print(f'grid_1d_size = {grid_1d_size}')"
   ],
   "id": "e29f81fd8b907a8",
   "outputs": [
    {
     "name": "stdout",
     "output_type": "stream",
     "text": [
      "len(enlarged_points) = 342\n",
      "len(enlarged_points) = 342\n",
      "outside of loop! converting to array\n",
      "len(added_points) = 1848\n",
      "len(added_points) + len(enlarged_points) = 2190\n",
      "len of enlarged points after concatenation = 2190\n",
      "grid_1d_size = 1.666666666666667\n"
     ]
    }
   ],
   "execution_count": 73
  },
  {
   "metadata": {
    "ExecuteTime": {
     "end_time": "2024-11-29T23:52:36.983465Z",
     "start_time": "2024-11-29T23:52:36.980021Z"
    }
   },
   "cell_type": "code",
   "source": [
    "#print(f'enlarged_points = {enlarged_points}')\n",
    "\n",
    "enlarged_points = trim_shell(inner_rad=4, outer_rad=5,  points_array=enlarged_points)\n",
    "print(f'len(enlarged_points) = {len(enlarged_points)}')\n",
    "#for i in range(len(enlarged_points)):\n",
    " #   print(f'enlarged_points[{i}]: {enlarged_points[i]}')"
   ],
   "id": "a36bdb6fc5de4049",
   "outputs": [
    {
     "name": "stdout",
     "output_type": "stream",
     "text": [
      "len of initial array: 2190\n",
      "len of trimmed array: 458\n",
      "len(enlarged_points) = 458\n"
     ]
    }
   ],
   "execution_count": 74
  },
  {
   "metadata": {},
   "cell_type": "markdown",
   "source": [
    "#enlarged_points[0]: [ 0. -2.  0.]\n",
    "#enlarged_points[1]: [-1. -1. -1.]\n",
    "#enlarged_points[2]: [-1. -1.  0.]\n",
    "#enlarged_points[3]: [-1. -1.  1.]\n",
    "#enlarged_points[4]: [ 0. -1. -1.]\n",
    "#enlarged_points[5]: [ 0. -1.  1.]\n",
    "#enlarged_points[6]: [ 1. -1. -1.]\n",
    "#enlarged_points[7]: [ 1. -1.  0.]\n",
    "#enlarged_points[8]: [ 1. -1.  1.]\n",
    "#enlarged_points[9]: [-2.  0.  0.]\n",
    "#enlarged_points[10]: [-1.  0. -1.]\n",
    "#enlarged_points[11]: [-1.  0.  1.]\n",
    "#enlarged_points[12]: [ 0.  0. -2.]\n",
    "#enlarged_points[13]: [0. 0. 2.]\n",
    "enlarged_points[14]: [ 1.  0. -1.]\n",
    "enlarged_points[15]: [1. 0. 1.]\n",
    "#enlarged_points[16]: [2. 0. 0.]\n",
    "enlarged_points[17]: [-1.  1. -1.]\n",
    "enlarged_points[18]: [-1.  1.  0.]\n",
    "enlarged_points[19]: [-1.  1.  1.]\n",
    "enlarged_points[20]: [ 0.  1. -1.]\n",
    "enlarged_points[21]: [0. 1. 1.]\n",
    "enlarged_points[22]: [ 1.  1. -1.]\n",
    "enlarged_points[23]: [1. 1. 0.]\n",
    "enlarged_points[24]: [1. 1. 1.]\n",
    "#enlarged_points[25]: [0. 2. 0.]"
   ],
   "id": "aa9d6eea8dbc71f7"
  },
  {
   "metadata": {},
   "cell_type": "markdown",
   "source": [
    "#enlarged_points[0]: [ 0. -2.  0.]\n",
    "#enlarged_points[1]: [-2.  0.  0.]\n",
    "#enlarged_points[2]: [ 0.  0. -2.]\n",
    "#enlarged_points[3]: [0. 0. 2.]\n",
    "#enlarged_points[4]: [2. 0. 0.]\n",
    "#enlarged_points[5]: [0. 2. 0.]\n",
    "enlarged_points[6]: [-2.  0.  0.]\n",
    "#enlarged_points[7]: [-1.  0. -1.]\n",
    "#enlarged_points[8]: [-1.  0.  1.]\n",
    "#enlarged_points[9]: [-1. -1. -1.]\n",
    "#enlarged_points[10]: [-1. -1.  1.]\n",
    "enlarged_points[11]: [ 0. -2.  0.]\n",
    "#enlarged_points[12]: [ 0. -1.  1.]\n",
    "#enlarged_points[13]: [ 0. -1. -1.]\n",
    "#enlarged_points[14]: [-1. -1.  0.]\n",
    "enlarged_points[15]: [ 0.  0. -2.]\n",
    "enlarged_points[16]: [ 1.  0. -1.]\n",
    "#enlarged_points[17]: [ 1. -1.  0.]\n",
    "#enlarged_points[18]: [ 1. -1. -1.]\n",
    "#enlarged_points[19]: [ 1. -1.  1.]\n",
    "enlarged_points[20]: [0. 0. 2.]\n",
    "enlarged_points[21]: [1. 0. 1.]\n",
    "enlarged_points[22]: [2. 0. 0.]\n",
    "enlarged_points[23]: [-1.  1. -1.]\n",
    "enlarged_points[24]: [-1.  1.  0.]\n",
    "enlarged_points[25]: [ 0.  1. -1.]\n",
    "enlarged_points[26]: [-1.  1.  1.]\n",
    "enlarged_points[27]: [0. 1. 1.]\n",
    "enlarged_points[28]: [ 1.  1. -1.]\n",
    "enlarged_points[29]: [1. 1. 1.]\n",
    "enlarged_points[30]: [1. 1. 0.]\n",
    "enlarged_points[31]: [0. 2. 0.]"
   ],
   "id": "f4ecd6faefe6fcad"
  },
  {
   "metadata": {
    "ExecuteTime": {
     "end_time": "2024-11-29T23:33:45.220711Z",
     "start_time": "2024-11-29T23:33:45.218483Z"
    }
   },
   "cell_type": "code",
   "source": "yes = enlarged_points",
   "id": "1197983710709c28",
   "outputs": [],
   "execution_count": 51
  },
  {
   "metadata": {
    "ExecuteTime": {
     "end_time": "2024-11-29T23:36:37.472101Z",
     "start_time": "2024-11-29T23:36:37.468421Z"
    }
   },
   "cell_type": "code",
   "source": [
    "# Check for duplicates in `yes`\n",
    "yes_set = {tuple(x) for x in yes}  # Convert each row to a tuple\n",
    "duplicates = len(yes) != len(yes_set)\n",
    "\n",
    "if duplicates:\n",
    "    print(\"Duplicates found in 'yes'.\")\n",
    "else:\n",
    "    print(\"No duplicates in 'yes'.\")\n",
    "\n"
   ],
   "id": "f8b86336dae77b1f",
   "outputs": [
    {
     "name": "stdout",
     "output_type": "stream",
     "text": [
      "No duplicates in 'yes'.\n"
     ]
    }
   ],
   "execution_count": 56
  },
  {
   "metadata": {
    "ExecuteTime": {
     "end_time": "2024-11-29T23:37:43.991343Z",
     "start_time": "2024-11-29T23:37:43.986840Z"
    }
   },
   "cell_type": "code",
   "source": [
    "# Convert both `yes` and `no` to sets of tuples for accurate comparison\n",
    "yes_set = {tuple(x) for x in yes}\n",
    "no_set = {tuple(x) for x in no}\n",
    "\n",
    "# Find elements in `yes_set` that are not in `no_set`\n",
    "unique_in_yes = yes_set - no_set\n",
    "\n",
    "if unique_in_yes:\n",
    "    #print(\"Elements in 'yes' not in 'no':\", list(unique_in_yes))\n",
    "    print('there are some unique points in yes.')\n",
    "else:\n",
    "    print(\"All elements in 'yes' are also in 'no'.\")\n",
    "    \n",
    "print(len(unique_in_yes))"
   ],
   "id": "b55a934f2d90753b",
   "outputs": [
    {
     "name": "stdout",
     "output_type": "stream",
     "text": [
      "there are some unique points in yes.\n",
      "560\n"
     ]
    }
   ],
   "execution_count": 58
  },
  {
   "metadata": {
    "ExecuteTime": {
     "end_time": "2024-11-30T00:49:45.707176Z",
     "start_time": "2024-11-30T00:49:45.563558Z"
    }
   },
   "cell_type": "code",
   "source": [
    "import numpy as np\n",
    "import matplotlib.pyplot as plt\n",
    "\n",
    "# Generate 2D grid with integer points from -5 to 5\n",
    "x = np.arange(-5, 6, 1)\n",
    "y = np.arange(-5, 6, 1)\n",
    "X, Y = np.meshgrid(x, y)\n",
    "\n",
    "# Generate second 2D grid with half unit spacing (1/2)\n",
    "x_half = np.arange(-5, 6, 0.5)\n",
    "y_half = np.arange(-5, 6, 0.5)\n",
    "X_half, Y_half = np.meshgrid(x_half, y_half)\n",
    "\n",
    "# Define the radii of the circles\n",
    "radius1 = 5 + np.sqrt(2)/2\n",
    "radius2 = 5 + np.sqrt(2)\n",
    "radius3 = 5  # New circle with radius 5\n",
    "\n",
    "# Create the figure and axis\n",
    "fig, ax = plt.subplots()\n",
    "# Plot the second grid points (scatter) in pink with smaller size\n",
    "ax.scatter(X_half, Y_half, color='blue', label='Smaller grid points', s=5)\n",
    "# Plot the first grid points (scatter) in blue\n",
    "ax.scatter(X, Y, color='black', label='Grid points', s=30)  # s is the marker size\n",
    "\n",
    "\n",
    "\n",
    "# Plot the circles using parametric equations\n",
    "theta = np.linspace(0, 2 * np.pi, 100)\n",
    "circle1_x = radius1 * np.cos(theta)\n",
    "circle1_y = radius1 * np.sin(theta)\n",
    "circle2_x = radius2 * np.cos(theta)\n",
    "circle2_y = radius2 * np.sin(theta)\n",
    "circle3_x = radius3 * np.cos(theta)  # New circle X coordinates\n",
    "circle3_y = radius3 * np.sin(theta)  # New circle Y coordinates\n",
    "\n",
    "# Plot the circles with different colors\n",
    "ax.plot(circle1_x, circle1_y, color='red', label=f'Circle with radius {radius1}')\n",
    "ax.plot(circle2_x, circle2_y, color='green', label=f'Circle with radius {radius2}')\n",
    "ax.plot(circle3_x, circle3_y, color='purple', label=f'Circle with radius {radius3}')  # New circle\n",
    "\n",
    "# Set equal scaling, labels, and title\n",
    "ax.set_aspect('equal')\n",
    "ax.set_xlim([-7, 7])\n",
    "ax.set_ylim([-7, 7])\n",
    "ax.set_xlabel('X')\n",
    "ax.set_ylabel('Y')\n",
    "ax.set_title('2D Grid with Circles')\n",
    "\n",
    "# Add legend\n",
    "#ax.legend()\n",
    "plt.savefig('circle.pdf', format = 'pdf')\n",
    "\n",
    "# Show the plot\n",
    "plt.show()"
   ],
   "id": "97478328f9570f7f",
   "outputs": [
    {
     "data": {
      "text/plain": [
       "<Figure size 640x480 with 1 Axes>"
      ],
      "image/png": "[encoded data removed]"
     },
     "metadata": {},
     "output_type": "display_data"
    }
   ],
   "execution_count": 7
  },
  {
   "metadata": {
    "ExecuteTime": {
     "end_time": "2024-11-30T01:39:13.108153Z",
     "start_time": "2024-11-30T01:37:59.056088Z"
    }
   },
   "cell_type": "code",
   "source": [
    "import numpy as np\n",
    "\n",
    "def integer_decompositions(target):\n",
    "    target_sq = target ** 2\n",
    "    solutions = []\n",
    "\n",
    "    # Iterate over possible x, y, z values\n",
    "    for x in range(int(np.sqrt(target_sq)) + 1):  # x ranges from 0 to sqrt(target_sq)\n",
    "        print(f'Checking for x = {x}')\n",
    "        for y in range(0, int(np.sqrt(target_sq - x**2)) + 1):  # y starts from 0\n",
    "            for z in range(0, int(np.sqrt(target_sq - x**2 - y**2)) + 1):  # z starts from 0\n",
    "                if x**2 + y**2 + z**2 == target_sq:\n",
    "                    solutions.append((x, y, z))\n",
    "\n",
    "    return solutions\n",
    "\n",
    "# Compute decompositions for 6371\n",
    "target = 6371\n",
    "decompositions = integer_decompositions(target)\n",
    "\n",
    "# Print the results\n",
    "print(f\"\\nAll integer decompositions of {target}^2 = x^2 + y^2 + z^2:\")\n",
    "for x, y, z in decompositions:\n",
    "    print(f\"x = {x}, y = {y}, z = {z}\")\n",
    "\n",
    "# Print total number of triplets\n",
    "print(f\"\\nTotal number of triplets found: {len(decompositions)}\")"
   ],
   "id": "28fc3d9d91d90783",
   "outputs": [
    {
     "name": "stdout",
     "output_type": "stream",
     "text": [
      "Checking for x = 0\n",
      "Checking for x = 1\n",
      "Checking for x = 2\n",
      "Checking for x = 3\n",
      "Checking for x = 4\n"
     ]
    },
    {
     "ename": "KeyboardInterrupt",
     "evalue": "",
     "output_type": "error",
     "traceback": [
      "\u001B[0;31m---------------------------------------------------------------------------\u001B[0m",
      "\u001B[0;31mKeyboardInterrupt\u001B[0m                         Traceback (most recent call last)",
      "Cell \u001B[0;32mIn[1], line 19\u001B[0m\n\u001B[1;32m     17\u001B[0m \u001B[38;5;66;03m# Compute decompositions for 6371\u001B[39;00m\n\u001B[1;32m     18\u001B[0m target \u001B[38;5;241m=\u001B[39m \u001B[38;5;241m6371\u001B[39m\n\u001B[0;32m---> 19\u001B[0m decompositions \u001B[38;5;241m=\u001B[39m \u001B[43minteger_decompositions\u001B[49m\u001B[43m(\u001B[49m\u001B[43mtarget\u001B[49m\u001B[43m)\u001B[49m\n\u001B[1;32m     21\u001B[0m \u001B[38;5;66;03m# Print the results\u001B[39;00m\n\u001B[1;32m     22\u001B[0m \u001B[38;5;28mprint\u001B[39m(\u001B[38;5;124mf\u001B[39m\u001B[38;5;124m\"\u001B[39m\u001B[38;5;130;01m\\n\u001B[39;00m\u001B[38;5;124mAll integer decompositions of \u001B[39m\u001B[38;5;132;01m{\u001B[39;00mtarget\u001B[38;5;132;01m}\u001B[39;00m\u001B[38;5;124m^2 = x^2 + y^2 + z^2:\u001B[39m\u001B[38;5;124m\"\u001B[39m)\n",
      "Cell \u001B[0;32mIn[1], line 12\u001B[0m, in \u001B[0;36minteger_decompositions\u001B[0;34m(target)\u001B[0m\n\u001B[1;32m     10\u001B[0m     \u001B[38;5;28;01mfor\u001B[39;00m y \u001B[38;5;129;01min\u001B[39;00m \u001B[38;5;28mrange\u001B[39m(\u001B[38;5;241m0\u001B[39m, \u001B[38;5;28mint\u001B[39m(np\u001B[38;5;241m.\u001B[39msqrt(target_sq \u001B[38;5;241m-\u001B[39m x\u001B[38;5;241m*\u001B[39m\u001B[38;5;241m*\u001B[39m\u001B[38;5;241m2\u001B[39m)) \u001B[38;5;241m+\u001B[39m \u001B[38;5;241m1\u001B[39m):  \u001B[38;5;66;03m# y starts from 0\u001B[39;00m\n\u001B[1;32m     11\u001B[0m         \u001B[38;5;28;01mfor\u001B[39;00m z \u001B[38;5;129;01min\u001B[39;00m \u001B[38;5;28mrange\u001B[39m(\u001B[38;5;241m0\u001B[39m, \u001B[38;5;28mint\u001B[39m(np\u001B[38;5;241m.\u001B[39msqrt(target_sq \u001B[38;5;241m-\u001B[39m x\u001B[38;5;241m*\u001B[39m\u001B[38;5;241m*\u001B[39m\u001B[38;5;241m2\u001B[39m \u001B[38;5;241m-\u001B[39m y\u001B[38;5;241m*\u001B[39m\u001B[38;5;241m*\u001B[39m\u001B[38;5;241m2\u001B[39m)) \u001B[38;5;241m+\u001B[39m \u001B[38;5;241m1\u001B[39m):  \u001B[38;5;66;03m# z starts from 0\u001B[39;00m\n\u001B[0;32m---> 12\u001B[0m             \u001B[38;5;28;01mif\u001B[39;00m x\u001B[38;5;241m*\u001B[39m\u001B[38;5;241m*\u001B[39m\u001B[38;5;241m2\u001B[39m \u001B[38;5;241m+\u001B[39m y\u001B[38;5;241m*\u001B[39m\u001B[38;5;241m*\u001B[39m\u001B[38;5;241m2\u001B[39m \u001B[38;5;241m+\u001B[39m z\u001B[38;5;241m*\u001B[39m\u001B[38;5;241m*\u001B[39m\u001B[38;5;241m2\u001B[39m \u001B[38;5;241m==\u001B[39m target_sq:\n\u001B[1;32m     13\u001B[0m                 solutions\u001B[38;5;241m.\u001B[39mappend((x, y, z))\n\u001B[1;32m     15\u001B[0m \u001B[38;5;28;01mreturn\u001B[39;00m solutions\n",
      "\u001B[0;31mKeyboardInterrupt\u001B[0m: "
     ]
    }
   ],
   "execution_count": 1
  },
  {
   "metadata": {
    "ExecuteTime": {
     "end_time": "2024-11-30T01:34:12.107003Z",
     "start_time": "2024-11-30T01:34:12.105174Z"
    }
   },
   "cell_type": "code",
   "source": [
    "import numpy as np\n",
    "\n",
    "def fractional_integer_decompositions(target):\n",
    "    target_sq = target ** 2\n",
    "    solutions = []\n",
    "\n",
    "    # Iterate over possible x, y, z values\n",
    "    max_value = int(np.sqrt(target_sq))  # Max integer value x, y, z can take\n",
    "    for x in range(-max_value, max_value + 1):  # x ranges from -max_value to max_value\n",
    "        for y in range(-max_value, max_value + 1):  # y ranges similarly\n",
    "            for z in range(-max_value, max_value + 1):  # z ranges similarly\n",
    "                # Compute the sum of squares for shifted coordinates\n",
    "                sum_of_squares = ((x + 0.5) ** 2 + (y + 0.5) ** 2 + (z + 0.5) ** 2)\n",
    "                # Check if it equals the target squared\n",
    "                if np.isclose(sum_of_squares, target_sq):\n",
    "                    solutions.append((x, y, z))\n",
    "\n",
    "    return solutions\n",
    "\n",
    "# Compute decompositions for 6371\n",
    "target = 6371\n",
    "decompositions = fractional_integer_decompositions(target)\n",
    "\n",
    "# Print the results\n",
    "print(f\"\\nAll fractional integer decompositions of {target}^2 = (x + 1/2)^2 + (y + 1/2)^2 + (z + 1/2)^2:\")\n",
    "for x, y, z in decompositions:\n",
    "    print(f\"x = {x}, y = {y}, z = {z}\")\n",
    "\n",
    "# Print total number of triplets\n",
    "print(f\"\\nTotal number of triplets found: {len(decompositions)}\")"
   ],
   "id": "1b872ba668f06175",
   "outputs": [],
   "execution_count": null
  },
  {
   "metadata": {},
   "cell_type": "code",
   "outputs": [],
   "execution_count": null,
   "source": "",
   "id": "7a0ddf5c464ab019"
  },
  {
   "metadata": {},
   "cell_type": "code",
   "outputs": [],
   "execution_count": null,
   "source": "",
   "id": "98e1e1c08ebbe2da"
  },
  {
   "metadata": {},
   "cell_type": "code",
   "outputs": [],
   "execution_count": null,
   "source": "",
   "id": "31d2df0fa976b447"
  },
  {
   "metadata": {},
   "cell_type": "code",
   "outputs": [],
   "execution_count": null,
   "source": "",
   "id": "e614cfdc317a1c2"
  },
  {
   "metadata": {},
   "cell_type": "code",
   "outputs": [],
   "execution_count": null,
   "source": "",
   "id": "de61e67f8ba7d003"
  },
  {
   "metadata": {
    "jupyter": {
     "is_executing": true
    },
    "ExecuteTime": {
     "start_time": "2024-11-30T01:45:14.040327Z"
    }
   },
   "cell_type": "code",
   "source": [
    "import numpy as np\n",
    "\n",
    "def fractional_integer_decompositions_optimized(target):\n",
    "    target_sq = target ** 2\n",
    "\n",
    "    # Define the range of values for x, y, z\n",
    "    max_value = int(np.sqrt(target_sq))  # Max integer value for x, y, z\n",
    "    values = np.arange(-max_value, max_value + 1)\n",
    "\n",
    "    # Generate all combinations of x, y, z in a vectorized way\n",
    "    X, Y, Z = np.meshgrid(values, values, values, indexing='ij')\n",
    "\n",
    "    # Compute the sum of squares for shifted coordinates\n",
    "    sum_of_squares = (X + 0.5)**2 + (Y + 0.5)**2 + (Z + 0.5)**2\n",
    "\n",
    "    # Create a mask to find valid decompositions\n",
    "    mask = np.isclose(sum_of_squares, target_sq)\n",
    "\n",
    "    # Extract the valid x, y, z values\n",
    "    x_valid = X[mask]\n",
    "    y_valid = Y[mask]\n",
    "    z_valid = Z[mask]\n",
    "\n",
    "    # Combine the results into a list of triplets\n",
    "    solutions = list(zip(x_valid, y_valid, z_valid))\n",
    "    return solutions\n",
    "\n",
    "# Compute decompositions for 6371\n",
    "target = 793\n",
    "decompositions = fractional_integer_decompositions_optimized(target)\n",
    "\n",
    "# Print the results\n",
    "print(f\"\\nAll fractional integer decompositions of {target}^2 = (x + 1/2)^2 + (y + 1/2)^2 + (z + 1/2)^2:\")\n",
    "for x, y, z in decompositions:\n",
    "    print(f\"x = {x}, y = {y}, z = {z}\")\n",
    "\n",
    "# Print total number of triplets\n",
    "print(f\"\\nTotal number of triplets found: {len(decompositions)}\")"
   ],
   "id": "7f5c29318bfb620e",
   "outputs": [],
   "execution_count": null
  },
  {
   "metadata": {},
   "cell_type": "code",
   "outputs": [],
   "execution_count": null,
   "source": "",
   "id": "4a0a601e8151b0a0"
  }
 ],
 "metadata": {
  "kernelspec": {
   "display_name": "Python 3",
   "language": "python",
   "name": "python3"
  },
  "language_info": {
   "codemirror_mode": {
    "name": "ipython",
    "version": 2
   },
   "file_extension": ".py",
   "mimetype": "text/x-python",
   "name": "python",
   "nbconvert_exporter": "python",
   "pygments_lexer": "ipython2",
   "version": "2.7.6"
  }
 },
 "nbformat": 4,
 "nbformat_minor": 5
}
