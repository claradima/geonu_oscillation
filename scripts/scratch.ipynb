{
 "cells": [
  {
   "cell_type": "code",
   "id": "initial_id",
   "metadata": {
    "collapsed": true,
    "ExecuteTime": {
     "end_time": "2024-10-31T20:18:51.017977Z",
     "start_time": "2024-10-31T20:18:50.693404Z"
    }
   },
   "source": [
    "from functions import *\n",
    "import numpy as np\n",
    "import matplotlib.pyplot as plt\n",
    "import sys\n",
    "import gc\n",
    "import psutil\n",
    "import os\n",
    "import argparse\n"
   ],
   "outputs": [],
   "execution_count": 1
  },
  {
   "metadata": {
    "ExecuteTime": {
     "end_time": "2024-10-31T20:18:52.114680Z",
     "start_time": "2024-10-31T20:18:52.111595Z"
    }
   },
   "cell_type": "code",
   "source": "test_grid = create_3d_grid(10, 100)",
   "id": "e9eb1afded548ec4",
   "outputs": [],
   "execution_count": 2
  },
  {
   "metadata": {
    "ExecuteTime": {
     "end_time": "2024-10-31T20:18:52.873313Z",
     "start_time": "2024-10-31T20:18:52.870187Z"
    }
   },
   "cell_type": "code",
   "source": "tiny_shells = cut_shell(0, 100, 3, test_grid)",
   "id": "ae1759cc690e901e",
   "outputs": [
    {
     "name": "stdout",
     "output_type": "stream",
     "text": [
      "Subshell 1 grid done (out of 3); limits: 0.0 , 33.333333333333336\n",
      "Subshell 2 grid done (out of 3); limits: 33.333333333333336 , 66.66666666666667\n",
      "Subshell 3 grid done (out of 3); limits: 66.66666666666667 , 100.0\n"
     ]
    }
   ],
   "execution_count": 3
  },
  {
   "metadata": {
    "ExecuteTime": {
     "end_time": "2024-10-31T20:19:50.327509Z",
     "start_time": "2024-10-31T20:19:50.322212Z"
    }
   },
   "cell_type": "code",
   "source": [
    "print (len(tiny_shells))\n",
    "print(len(tiny_shells[0]))\n",
    "print(len(tiny_shells[1]))\n",
    "print(len(tiny_shells[2]))"
   ],
   "id": "c0f8f266317e2021",
   "outputs": [
    {
     "name": "stdout",
     "output_type": "stream",
     "text": [
      "3\n",
      "8\n",
      "128\n",
      "224\n"
     ]
    }
   ],
   "execution_count": 4
  },
  {
   "metadata": {
    "ExecuteTime": {
     "end_time": "2024-11-14T13:45:57.137828Z",
     "start_time": "2024-11-14T13:45:57.133753Z"
    }
   },
   "cell_type": "code",
   "source": [
    "E_Th = 1.806\n",
    "print(round(E_Th, 2))"
   ],
   "id": "d928e08d40eb09e3",
   "outputs": [
    {
     "name": "stdout",
     "output_type": "stream",
     "text": [
      "1.81\n"
     ]
    }
   ],
   "execution_count": 3
  },
  {
   "metadata": {},
   "cell_type": "code",
   "outputs": [],
   "execution_count": null,
   "source": "",
   "id": "2f44471dc0d6c8d1"
  }
 ],
 "metadata": {
  "kernelspec": {
   "display_name": "Python 3",
   "language": "python",
   "name": "python3"
  },
  "language_info": {
   "codemirror_mode": {
    "name": "ipython",
    "version": 2
   },
   "file_extension": ".py",
   "mimetype": "text/x-python",
   "name": "python",
   "nbconvert_exporter": "python",
   "pygments_lexer": "ipython2",
   "version": "2.7.6"
  }
 },
 "nbformat": 4,
 "nbformat_minor": 5
}
