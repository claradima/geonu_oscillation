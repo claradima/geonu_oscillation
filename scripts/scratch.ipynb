{
 "cells": [
  {
   "cell_type": "code",
   "id": "initial_id",
   "metadata": {
    "collapsed": true,
    "ExecuteTime": {
     "end_time": "2024-10-31T20:18:51.017977Z",
     "start_time": "2024-10-31T20:18:50.693404Z"
    }
   },
   "source": [
    "from functions import *\n",
    "import numpy as np\n",
    "import matplotlib.pyplot as plt\n",
    "import sys\n",
    "import gc\n",
    "import psutil\n",
    "import os\n",
    "import argparse\n"
   ],
   "outputs": [],
   "execution_count": 1
  },
  {
   "metadata": {
    "ExecuteTime": {
     "end_time": "2024-10-31T20:18:52.114680Z",
     "start_time": "2024-10-31T20:18:52.111595Z"
    }
   },
   "cell_type": "code",
   "source": "test_grid = create_3d_grid(10, 100)",
   "id": "e9eb1afded548ec4",
   "outputs": [],
   "execution_count": 2
  },
  {
   "metadata": {
    "ExecuteTime": {
     "end_time": "2024-10-31T20:18:52.873313Z",
     "start_time": "2024-10-31T20:18:52.870187Z"
    }
   },
   "cell_type": "code",
   "source": "tiny_shells = cut_shell(0, 100, 3, test_grid)",
   "id": "ae1759cc690e901e",
   "outputs": [
    {
     "name": "stdout",
     "output_type": "stream",
     "text": [
      "Subshell 1 grid done (out of 3); limits: 0.0 , 33.333333333333336\n",
      "Subshell 2 grid done (out of 3); limits: 33.333333333333336 , 66.66666666666667\n",
      "Subshell 3 grid done (out of 3); limits: 66.66666666666667 , 100.0\n"
     ]
    }
   ],
   "execution_count": 3
  },
  {
   "metadata": {
    "ExecuteTime": {
     "end_time": "2024-10-31T20:19:50.327509Z",
     "start_time": "2024-10-31T20:19:50.322212Z"
    }
   },
   "cell_type": "code",
   "source": [
    "print (len(tiny_shells))\n",
    "print(len(tiny_shells[0]))\n",
    "print(len(tiny_shells[1]))\n",
    "print(len(tiny_shells[2]))"
   ],
   "id": "c0f8f266317e2021",
   "outputs": [
    {
     "name": "stdout",
     "output_type": "stream",
     "text": [
      "3\n",
      "8\n",
      "128\n",
      "224\n"
     ]
    }
   ],
   "execution_count": 4
  },
  {
   "metadata": {
    "ExecuteTime": {
     "end_time": "2024-11-14T13:45:57.137828Z",
     "start_time": "2024-11-14T13:45:57.133753Z"
    }
   },
   "cell_type": "code",
   "source": [
    "E_Th = 1.806\n",
    "print(round(E_Th, 2))"
   ],
   "id": "d928e08d40eb09e3",
   "outputs": [
    {
     "name": "stdout",
     "output_type": "stream",
     "text": [
      "1.81\n"
     ]
    }
   ],
   "execution_count": 3
  },
  {
   "metadata": {
    "ExecuteTime": {
     "end_time": "2024-11-22T22:02:01.777304Z",
     "start_time": "2024-11-22T22:02:01.772612Z"
    }
   },
   "cell_type": "code",
   "source": [
    "# Define the list\n",
    "fibre_delay = [17.75, 17.5, 16.5, 15.0, 17.75, 16.5, 20.75, 17.25, 21.5, 14.75, 19.0, 17.75, 17.0, 10.75, 19.0, 17.5, 14.25, 14.5, 15.5, 20.5, 17.0, 14.75, 7.5, 15.0, 15.5, 17.25, 8.25, 19.0, 18.25, 5.75, 19.25, 13.0, 12.75, 18.0, 18.5, 19.0, 17.75, 17.5, 18.0, 14.0, 18.75, 15.25, 13.5, 18.5, 19.75, 21.25, 20.25, 20.5, 18.5, 19.25, 20.0, 22.5, 12.5, 15.5, 18.25, 9.5, 21.0, 17.0, 17.5, 18.5, 21.5, 18.5, 20.25, 17.75, 17.75, 22.5, 3.25, 18.25, 12.25, 16.75, 11.75, 17.0, 13.0, 11.5, 15.75, 18.5, 16.0, 8.5, 16.25, 9.75, 12.5, 17.0, 13.75, 17.0, 0.0, 12.25, 22.5, 20.5, 12.0, 14.0, 17.75, 24.25, 13.75, 13.75, 17.5]\n",
    "\n",
    "# Count the elements\n",
    "count = len(fibre_delay)\n",
    "\n",
    "# Print the result\n",
    "print(\"The number of elements in the list is:\", count)"
   ],
   "id": "2f44471dc0d6c8d1",
   "outputs": [
    {
     "name": "stdout",
     "output_type": "stream",
     "text": [
      "The number of elements in the list is: 95\n"
     ]
    }
   ],
   "execution_count": 2
  },
  {
   "metadata": {},
   "cell_type": "code",
   "outputs": [],
   "execution_count": null,
   "source": "",
   "id": "fe32fae71934c103"
  }
 ],
 "metadata": {
  "kernelspec": {
   "display_name": "Python 3",
   "language": "python",
   "name": "python3"
  },
  "language_info": {
   "codemirror_mode": {
    "name": "ipython",
    "version": 2
   },
   "file_extension": ".py",
   "mimetype": "text/x-python",
   "name": "python",
   "nbconvert_exporter": "python",
   "pygments_lexer": "ipython2",
   "version": "2.7.6"
  }
 },
 "nbformat": 4,
 "nbformat_minor": 5
}
