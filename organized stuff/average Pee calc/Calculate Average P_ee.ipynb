{
 "cells": [
  {
   "cell_type": "code",
   "id": "initial_id",
   "metadata": {
    "collapsed": true,
    "ExecuteTime": {
     "end_time": "2024-06-12T14:18:02.218947Z",
     "start_time": "2024-06-12T14:17:59.124822Z"
    }
   },
   "source": [
    "import numpy as np\n",
    "import matplotlib.pyplot as plt\n",
    "import sys\n",
    "print(\"imports successful\")\n",
    "\n",
    "grid_count_crust = 640 # would need 637.1 for 20 km spacing\n",
    "#1275 for 5 km spacing\n",
    "coordinates = np.linspace(-6371, 6371, grid_count_crust)\n",
    "grid_1d_size_crust = coordinates[1]-coordinates[0]\n",
    "\n",
    "# Generate the grid coordinates using meshgrid\n",
    "x_coordinates, y_coordinates, z_coordinates = np.meshgrid(coordinates, coordinates, coordinates)\n",
    "\n",
    "# Calculate the distance of each point from the origin using vectorized operations\n",
    "distances_squared = x_coordinates**2 + y_coordinates**2 + z_coordinates**2\n",
    "\n",
    "# Find indices where distance is less than or equal to the radius squared\n",
    "crust_indices = np.logical_and(6350**2 < distances_squared, distances_squared <= 6371**2)\n",
    "\n",
    "# Extract valid coordinates using boolean indexing\n",
    "crust_grid = np.stack((x_coordinates[crust_indices], y_coordinates[crust_indices], z_coordinates[crust_indices]), axis=-1)\n",
    "\n",
    "print(\"crust grid created successfully\")"
   ],
   "outputs": [
    {
     "name": "stdout",
     "output_type": "stream",
     "text": [
      "imports successful\n",
      "crust grid created successfully\n"
     ]
    }
   ],
   "execution_count": 107
  },
  {
   "metadata": {
    "ExecuteTime": {
     "end_time": "2024-06-12T14:18:02.312423Z",
     "start_time": "2024-06-12T14:18:02.220423Z"
    }
   },
   "cell_type": "code",
   "source": [
    "grid_count_mantle = 250 # would need 637.1 for 20 km spacing\n",
    "#320 for 40 km spacing\n",
    "#285 for 45 km spacing\n",
    "#215 for 60km spacing\n",
    "#160 for 80km spacing\n",
    "coordinates = np.linspace(-6371, 6371, grid_count_mantle)\n",
    "grid_1d_size_mantle = coordinates[1]-coordinates[0]\n",
    "\n",
    "# Generate the grid coordinates using meshgrid\n",
    "x_coordinates, y_coordinates, z_coordinates = np.meshgrid(coordinates, coordinates, coordinates)\n",
    "\n",
    "# Calculate the distance of each point from the origin using vectorized operations\n",
    "distances_squared = x_coordinates**2 + y_coordinates**2 + z_coordinates**2\n",
    "CLM_indices = np.logical_and(6196**2 < distances_squared, distances_squared <= 6350**2)\n",
    "CLM_grid = np.stack((x_coordinates[CLM_indices], y_coordinates[CLM_indices], z_coordinates[CLM_indices]), axis=-1)\n",
    "\n",
    "DM_indices1 = np.logical_and(4202**2 < distances_squared, distances_squared <= 5200**2)\n",
    "DM_grid1 = np.stack((x_coordinates[DM_indices1], y_coordinates[DM_indices1], z_coordinates[DM_indices1]), axis=-1)\n",
    "\n",
    "DM_indices2 = np.logical_and(5200**2 < distances_squared, distances_squared <= 6196**2)\n",
    "DM_grid2 = np.stack((x_coordinates[DM_indices2], y_coordinates[DM_indices2], z_coordinates[DM_indices2]), axis=-1)\n",
    "\n",
    "EM_indices = np.logical_and(3480**2 < distances_squared, distances_squared <= 4202**2)\n",
    "EM_grid = np.stack((x_coordinates[EM_indices], y_coordinates[EM_indices], z_coordinates[EM_indices]), axis=-1)\n",
    "\n",
    "print(\"mantle grid created successfully\")"
   ],
   "id": "890a95a96d73d504",
   "outputs": [
    {
     "name": "stdout",
     "output_type": "stream",
     "text": [
      "mantle grid created successfully\n"
     ]
    }
   ],
   "execution_count": 108
  },
  {
   "metadata": {
    "ExecuteTime": {
     "end_time": "2024-06-12T14:18:02.319802Z",
     "start_time": "2024-06-12T14:18:02.313564Z"
    }
   },
   "cell_type": "code",
   "source": [
    "print(\"setting densities and abundances\")\n",
    "\n",
    "# Placeholder definitions for IDE recognition\n",
    "A_Th_c = A_U_c = A_Th_CLM = A_U_CLM = A_Th_DM1 = A_U_DM1 = A_Th_DM2 = A_U_DM2 = A_Th_EM = A_U_EM = 0\n",
    "\n",
    "# Define the parameter sets\n",
    "low_abundances = {\n",
    "    \"A_Th_c\": 5 * (10**(-6)),\n",
    "    \"A_U_c\": 1 * (10**(-6)),\n",
    "    \"A_Th_CLM\": 53 * (10**(-9)),\n",
    "    \"A_U_CLM\": 13 * (10**(-9)),\n",
    "    \"A_Th_DM\": 17.52 * (10**(-9)),\n",
    "    \"A_U_DM\": 6.4 * (10**(-9)),\n",
    "    \"A_Th_EM\": 90 * (10**(-9)),\n",
    "    \"A_U_EM\": 15 * (10**(-9))\n",
    "}\n",
    "\n",
    "mid_abundances = {\n",
    "    \"A_Th_c\": 5 * (10**(-6)),\n",
    "    \"A_U_c\": 1 * (10**(-6)),\n",
    "    \"A_Th_CLM\": 147 * (10**(-9)),\n",
    "    \"A_U_CLM\": 33 * (10**(-9)),\n",
    "    \"A_Th_DM\": 21.9 * (10**(-9)),\n",
    "    \"A_U_DM\": 8 * (10**(-9)),\n",
    "    \"A_Th_EM\": 147 * (10**(-9)),\n",
    "    \"A_U_EM\": 33 * (10**(-9))\n",
    "}\n",
    "\n",
    "high_abundances = {\n",
    "    \"A_Th_c\": 5 * (10**(-6)),\n",
    "    \"A_U_c\": 1 * (10**(-6)),\n",
    "    \"A_Th_CLM\": 427 * (10**(-9)),\n",
    "    \"A_U_CLM\": 83 * (10**(-9)),\n",
    "    \"A_Th_DM\": 26.28 * (10**(-9)),\n",
    "    \"A_U_DM\": 9.6 * (10**(-9)),\n",
    "    \"A_Th_EM\": 221 * (10**(-9)),\n",
    "    \"A_U_EM\": 57 * (10**(-9))\n",
    "}\n",
    "\n",
    "# Function to select the parameter set\n",
    "def select_abundances(abundance_set):\n",
    "    globals().update(abundance_set)\n",
    "\n",
    "# Choose the desired parameter set by name\n",
    "abundances = low_abundances  # Change to mid_abundances or high_abundances as needed\n",
    "select_abundances(abundances)\n",
    "\n",
    "print(A_Th_c)\n",
    "\n",
    "\n",
    "rho_c = 2.7\n",
    "rho_CLM = 3.3 #g/cm^3 probably\n",
    "rho_DM = 3.3\n",
    "rho_EM = 3.3\n",
    "print(\"densities and abundances set successfully\")\n",
    "\n",
    "#we have pretty much everything to compute things separately!\n",
    "# compute for crust\n",
    "#set position of SNO+\n",
    "\n",
    "print(\"setting detector position\")\n",
    "\n",
    "SNO_r = np.array([0, 0, 6369])"
   ],
   "id": "cec6089eb3ac1dd",
   "outputs": [
    {
     "name": "stdout",
     "output_type": "stream",
     "text": [
      "setting densities and abundances\n",
      "4.9999999999999996e-06\n",
      "densities and abundances set successfully\n",
      "setting detector position\n"
     ]
    }
   ],
   "execution_count": 109
  },
  {
   "metadata": {
    "ExecuteTime": {
     "end_time": "2024-06-12T14:18:02.332492Z",
     "start_time": "2024-06-12T14:18:02.321353Z"
    }
   },
   "cell_type": "code",
   "source": [
    "def calc_relative_dist(points_array):\n",
    "    # Calculate the Euclidean distance using vectorized operations\n",
    "    relative_distances = np.linalg.norm(points_array - SNO_r, axis=1)\n",
    "    return relative_distances\n",
    "\n",
    "#define Delta function for an array of points and energies\n",
    "#inputs: appropriate deltam _ij^2, energy array [MeV], points array\n",
    "#relative distance calculated in km, hence Delta scaled up by a factor of 1000 to account for m-km conversion\n",
    "\n",
    "def Delta_ij(energy_array, points_array, delta_m_ij_squared):\n",
    "    # Calculate relative distances\n",
    "    relative_distance_array = calc_relative_dist(points_array)\n",
    "    \n",
    "    # Reshape energy_array to perform element-wise division\n",
    "    energy_array_reshaped = energy_array.reshape(-1, 1)\n",
    "    \n",
    "    # Calculate Delta using vectorized operations\n",
    "    Delta = (1.27 * delta_m_ij_squared * relative_distance_array * 1000) / (energy_array_reshaped)\n",
    "    \n",
    "    return Delta"
   ],
   "id": "3667277168bcda4a",
   "outputs": [],
   "execution_count": 110
  },
  {
   "metadata": {
    "ExecuteTime": {
     "end_time": "2024-06-12T14:18:02.344912Z",
     "start_time": "2024-06-12T14:18:02.333342Z"
    }
   },
   "cell_type": "code",
   "source": [
    "def P_ee_full_optimized(energy_array, points_array, theta_12, theta_13, delta_m_21_squared):\n",
    "    \n",
    "    #P_ee = np.empty((len(energy_array), len(points_array))) # np.empty more efficient\n",
    "    #than np.zeros or whatever\n",
    "    #might not need this at all though\n",
    "    relative_distance_array = calc_relative_dist(points_array)\n",
    "    \n",
    "    Delta_31 = Delta_ij(energy_array, points_array, delta_m_31_squared)\n",
    "    print(\"Delta_31 computed successfully\")\n",
    "    Delta_12 = Delta_ij(energy_array, points_array, delta_m_21_squared)\n",
    "    print(\"Delta_12 computed successfully\")\n",
    "\n",
    "    A = (np.cos(theta_13))**4 * (np.sin(2 * theta_12))**2\n",
    "    B = np.sin(2 * theta_13)**2\n",
    "\n",
    "    sin_squared_Delta_31 = np.sin(Delta_31) ** 2\n",
    "    sin_squared_Delta_12 = np.sin(Delta_12) ** 2\n",
    "    \n",
    "    print(\"values computed successfully\")\n",
    "\n",
    "    P_ee = 1 - (A * sin_squared_Delta_12 + B * sin_squared_Delta_31)\n",
    "    print(\"P_ee computed successfully\")\n",
    "    \n",
    "    return P_ee"
   ],
   "id": "f92fdafc37e43378",
   "outputs": [],
   "execution_count": 111
  },
  {
   "metadata": {
    "ExecuteTime": {
     "end_time": "2024-06-12T14:18:02.353487Z",
     "start_time": "2024-06-12T14:18:02.345762Z"
    }
   },
   "cell_type": "code",
   "source": [
    "#set standard oscillation parameters\n",
    "print(\"setting standard oscillation parameters\")\n",
    "\n",
    "theta_12 = 0.5903 #rad\n",
    "theta_23 = 0.8430 #rad\n",
    "theta_13 = 0.1503 #rad\n",
    "\n",
    "delta_m_21_squared = 7.39 * 10**(-5) #eV^2\n",
    "delta_m_32_squared = 2.449 * 10**(-3) #eV^2\n",
    "delta_m_31_squared = delta_m_32_squared\n",
    "print(\"defining energy array\")\n",
    "energy_array = np.linspace(1.8, 3.3, 100)"
   ],
   "id": "2aa191482f89fec5",
   "outputs": [
    {
     "name": "stdout",
     "output_type": "stream",
     "text": [
      "setting standard oscillation parameters\n",
      "defining energy array\n"
     ]
    }
   ],
   "execution_count": 112
  },
  {
   "metadata": {
    "ExecuteTime": {
     "end_time": "2024-06-12T14:18:02.365956Z",
     "start_time": "2024-06-12T14:18:02.354368Z"
    }
   },
   "cell_type": "code",
   "source": [
    "def sigma_IBD(energy_array):\n",
    "    # optimized with numpy\n",
    "    \n",
    "    m_e = 0.511 #MeV\n",
    "    m_p = 938 #MeV\n",
    "    m_n = 941 #MeV\n",
    "    E_th = 1.806 #MeV\n",
    "    \n",
    "    sigma = ((energy_array - E_th + m_e)**2) * ((1 - (m_e)**2/((energy_array - E_th + m_e)**2))**(1/2))\n",
    "    \n",
    "    return sigma\n",
    "#all these + sources in Earth model more bins -3 (for example)"
   ],
   "id": "d049f6282068b307",
   "outputs": [],
   "execution_count": 113
  },
  {
   "metadata": {
    "ExecuteTime": {
     "end_time": "2024-06-12T14:18:02.374711Z",
     "start_time": "2024-06-12T14:18:02.366880Z"
    }
   },
   "cell_type": "code",
   "source": [
    "print(\"setting lambda and mu values\")\n",
    "\n",
    "lambda_U = 4.916\n",
    "lambda_Th = 1.563\n",
    "mu_U = 235\n",
    "mu_Th = 232"
   ],
   "id": "d042d8d2045fac02",
   "outputs": [
    {
     "name": "stdout",
     "output_type": "stream",
     "text": [
      "setting lambda and mu values\n"
     ]
    }
   ],
   "execution_count": 114
  },
  {
   "metadata": {
    "ExecuteTime": {
     "end_time": "2024-06-12T14:18:02.387974Z",
     "start_time": "2024-06-12T14:18:02.375485Z"
    }
   },
   "cell_type": "code",
   "source": [
    "\n",
    "#get fluxes\n",
    "print(\"getting emission fluxes\")\n",
    "energy_array_U = []\n",
    "dn_dE_U = []\n",
    "\n",
    "with open('U238_spectrum.txt', 'r') as file:\n",
    "    for line in file:\n",
    "        # Split each line into columns\n",
    "        columns = line.split()\n",
    "\n",
    "        # Convert the elements to float and append to arrays\n",
    "        energy_array_U.append(float(columns[0]))\n",
    "        dn_dE_U.append(float(columns[1]))\n",
    "\n",
    "# Scale down all energies by a factor of 1000\n",
    "energy_array_U = np.array(energy_array_U) / 1000\n",
    "dn_dE_U = np.array(dn_dE_U)\n",
    "\n",
    "# plt.plot(energy_array_U, dn_dE_U)\n",
    "# plt.xlabel('E_nu [MeV]')\n",
    "# plt.yscale('log')\n",
    "# plt.ylabel('Intensity (some units, doesn\\'t matter)')\n",
    "# plt.title('Energy spectrum of geonus from U238 decay')\n",
    "# \n",
    "# # Add shaded region between 1.8 MeV and 3.2 MeV\n",
    "# plt.axvspan(1.8, 3.2, alpha=0.3, color='gray')\n",
    "# # Enable minor ticks on x-axis\n",
    "# plt.minorticks_on()\n",
    "# plt.show()\n",
    "\n",
    "print(\"done for Uranium, moving on to Thorium\")\n",
    "\n",
    "energy_array_Th = []\n",
    "dn_dE_Th = []\n",
    "with open('Th232_spectrum.txt', 'r') as file:\n",
    "    for line in file:\n",
    "        # Split each line into columns\n",
    "        columns = line.split()\n",
    "\n",
    "        # Convert the elements to float and append to arrays\n",
    "        energy_array_Th.append(float(columns[0]))\n",
    "        dn_dE_Th.append(float(columns[1]))\n",
    "\n",
    "# Scale down all energies by a factor of 1000\n",
    "energy_array_Th = np.array(energy_array_Th) / 1000\n",
    "dn_dE_Th = np.array(dn_dE_Th)\n",
    "\n",
    "# plt.plot(energy_array_Th, dn_dE_Th)\n",
    "# plt.xlabel('E_nu [MeV]')\n",
    "# plt.yscale('log')\n",
    "# plt.ylabel('Intensity (some units, doesn\\'t matter)')\n",
    "# plt.title('Energy spectrum of geonus from Th232 decay')\n",
    "# # Add shaded region between 1.8 MeV and 3.2 MeV\n",
    "# plt.axvspan(1.8, 3.2, alpha=0.3, color='gray')\n",
    "# # Enable minor ticks on x-axis\n",
    "# plt.minorticks_on()\n",
    "# plt.show()\n",
    "# Plot U238 decay data (blue line)\n",
    "# plt.plot(energy_array_U, dn_dE_U, label='U238 decays', color='blue')\n",
    "# \n",
    "# # Plot Th232 decay data (red line)\n",
    "# plt.plot(energy_array_Th, dn_dE_Th, label='Th232 decays', color='red')\n",
    "# \n",
    "# plt.xlabel('E_nu [MeV]')\n",
    "# plt.yscale('log')\n",
    "# plt.ylabel('Intensity (some units, doesn\\'t matter)')\n",
    "# plt.title('Energy spectrum of geonus')\n",
    "# \n",
    "# # Add shaded region between 1.8 MeV and 3.3 MeV\n",
    "# plt.axvspan(1.8, 3.3, alpha=0.3, color='gray')\n",
    "# \n",
    "# # Enable minor ticks on x-axis\n",
    "# plt.minorticks_on()\n",
    "# \n",
    "# plt.legend(loc='upper right')\n",
    "# \n",
    "# plt.show()\n",
    "def rebin_counts(initial_bins, counts_in_initial_bins, final_bin_midpoints):\n",
    "    \"\"\"\n",
    "    Rebins counts data.\n",
    "\n",
    "    Parameters:\n",
    "    - initial_bins: array, bin edges of the initial data\n",
    "    - counts_in_initial_bins: array, counts in each initial bin\n",
    "    - final_bin_midpoints: array, midpoints of the final desired bins\n",
    "\n",
    "    Returns:\n",
    "    - counts_in_final_bins: array, counts in each final bin\n",
    "    \"\"\"\n",
    "\n",
    "    # Calculate bin midpoints of the initial bins\n",
    "    bin_midpoints = (initial_bins[:-1] + initial_bins[1:]) / 2\n",
    "\n",
    "    # Use np.histogram to calculate counts in final bins\n",
    "    counts_in_final_bins, _ = np.histogram(initial_bins, bins=np.concatenate([initial_bins, [2 * initial_bins[-1] - initial_bins[-2]]]), weights=counts_in_initial_bins)\n",
    "\n",
    "    # Interpolate the counts to the final bin midpoints\n",
    "    counts_in_final_bins = np.interp(final_bin_midpoints, bin_midpoints, counts_in_final_bins[:-1])\n",
    "\n",
    "    return counts_in_final_bins\n",
    "\n",
    "print(\"rebin to match energy array\")\n",
    "\n",
    "dn_dE_rebinned_U = rebin_counts(energy_array_U, dn_dE_U, energy_array)\n",
    "dn_dE_rebinned_Th = rebin_counts(energy_array_Th, dn_dE_Th, energy_array)"
   ],
   "id": "858042f2647e4554",
   "outputs": [
    {
     "name": "stdout",
     "output_type": "stream",
     "text": [
      "getting emission fluxes\n",
      "done for Uranium, moving on to Thorium\n",
      "rebin to match energy array\n"
     ]
    }
   ],
   "execution_count": 115
  },
  {
   "metadata": {
    "ExecuteTime": {
     "end_time": "2024-06-12T14:18:02.396075Z",
     "start_time": "2024-06-12T14:18:02.389422Z"
    }
   },
   "cell_type": "code",
   "source": [
    "print(\"computing IBD cross section\")\n",
    "sigma = sigma_IBD(energy_array)"
   ],
   "id": "b75bc98c1c94fe52",
   "outputs": [
    {
     "name": "stdout",
     "output_type": "stream",
     "text": [
      "computing IBD cross section\n"
     ]
    },
    {
     "name": "stderr",
     "output_type": "stream",
     "text": [
      "/tmp/ipykernel_47249/3884541781.py:9: RuntimeWarning: invalid value encountered in sqrt\n",
      "  sigma = ((energy_array - E_th + m_e)**2) * ((1 - (m_e)**2/((energy_array - E_th + m_e)**2))**(1/2))\n"
     ]
    }
   ],
   "execution_count": 116
  },
  {
   "metadata": {
    "ExecuteTime": {
     "end_time": "2024-06-12T14:18:02.404441Z",
     "start_time": "2024-06-12T14:18:02.396968Z"
    }
   },
   "cell_type": "code",
   "source": [
    "#DEFINE ENERGY WEIGHTS\n",
    "\n",
    "w_E_Th = ((lambda_Th)/(mu_Th)) * sigma * dn_dE_rebinned_Th\n",
    "w_E_U = ((lambda_U)/(mu_U)) * sigma * dn_dE_rebinned_U\n",
    "\n",
    "print(\"Shape of w_E_Th:\", w_E_Th.shape)\n",
    "print(\"Shape of w_E_U:\", w_E_U.shape)"
   ],
   "id": "d12a28187f250eec",
   "outputs": [
    {
     "name": "stdout",
     "output_type": "stream",
     "text": [
      "Shape of w_E_Th: (100,)\n",
      "Shape of w_E_U: (100,)\n"
     ]
    }
   ],
   "execution_count": 117
  },
  {
   "metadata": {
    "ExecuteTime": {
     "end_time": "2024-06-12T14:18:02.412288Z",
     "start_time": "2024-06-12T14:18:02.405117Z"
    }
   },
   "cell_type": "code",
   "source": [
    "#DEFINE FUNCTION TO COMPUTE POSITION WEIGHTS\n",
    "\n",
    "def get_position_weights(points_array, theta_12, grid_1d_size, delta_m_21_squared, A_Th, A_U, rho):\n",
    "    \n",
    "    dV = grid_1d_size**3\n",
    "    \n",
    "    relative_distance_array = calc_relative_dist(points_array)\n",
    "    print(\"Relative distance array computed successfully\")\n",
    "    \n",
    "    position_weights_Th = (A_Th  * rho * dV) / (4 * np.pi * relative_distance_array**2)\n",
    "    position_weights_U = (A_Th  * rho * dV) / (4 * np.pi * relative_distance_array**2)\n",
    "    \n",
    "    return position_weights_Th, position_weights_U\n",
    "    "
   ],
   "id": "752e784340cbcda5",
   "outputs": [],
   "execution_count": 118
  },
  {
   "metadata": {
    "ExecuteTime": {
     "end_time": "2024-06-12T14:18:12.674302Z",
     "start_time": "2024-06-12T14:18:02.412961Z"
    }
   },
   "cell_type": "code",
   "source": [
    "# CALCULATE ALL SURVIVAL PROBABILITIES\n",
    "P_ee_c = P_ee_full_optimized(energy_array, crust_grid, theta_12, theta_13, delta_m_21_squared)\n",
    "print(\"Shape of P_ee_c:\", P_ee_c.shape)\n",
    "print(\"crust done\")\n",
    "\n",
    "P_ee_CLM = P_ee_full_optimized(energy_array, CLM_grid, theta_12, theta_13, delta_m_21_squared)\n",
    "print(\"Shape of P_ee_CLM:\", P_ee_CLM.shape)\n",
    "print(\"CLM done\")\n",
    "\n",
    "P_ee_DM1 = P_ee_full_optimized(energy_array, DM_grid1, theta_12, theta_13, delta_m_21_squared)\n",
    "print(\"Shape of P_ee_DM1:\", P_ee_DM1.shape)\n",
    "print(\"DM1 done\")\n",
    "\n",
    "P_ee_DM2 = P_ee_full_optimized(energy_array, DM_grid2, theta_12, theta_13, delta_m_21_squared)\n",
    "print(\"Shape of P_ee_DM2:\", P_ee_DM2.shape)\n",
    "print(\"DM2 done\")\n",
    "\n",
    "P_ee_EM = P_ee_full_optimized(energy_array, EM_grid, theta_12, theta_13, delta_m_21_squared)\n",
    "print(\"Shape of P_ee_EM:\", P_ee_EM.shape)\n",
    "print(\"EM done\")"
   ],
   "id": "2b291c61ed5d1f40",
   "outputs": [
    {
     "name": "stdout",
     "output_type": "stream",
     "text": [
      "Delta_31 computed successfully\n",
      "Delta_12 computed successfully\n",
      "values computed successfully\n",
      "P_ee computed successfully\n",
      "Shape of P_ee_c: (100, 1344768)\n",
      "crust done\n",
      "Delta_31 computed successfully\n",
      "Delta_12 computed successfully\n",
      "values computed successfully\n",
      "P_ee computed successfully\n",
      "Shape of P_ee_CLM: (100, 147128)\n",
      "CLM done\n",
      "Delta_31 computed successfully\n",
      "Delta_12 computed successfully\n",
      "values computed successfully\n",
      "P_ee computed successfully\n",
      "Shape of P_ee_DM1: (100, 540176)\n",
      "DM1 done\n",
      "Delta_31 computed successfully\n",
      "Delta_12 computed successfully\n",
      "values computed successfully\n",
      "P_ee computed successfully\n",
      "Shape of P_ee_DM2: (100, 791944)\n",
      "DM2 done\n",
      "Delta_31 computed successfully\n",
      "Delta_12 computed successfully\n",
      "values computed successfully\n",
      "P_ee computed successfully\n",
      "Shape of P_ee_EM: (100, 260560)\n",
      "EM done\n"
     ]
    }
   ],
   "execution_count": 119
  },
  {
   "metadata": {
    "ExecuteTime": {
     "end_time": "2024-06-12T14:18:12.767464Z",
     "start_time": "2024-06-12T14:18:12.675770Z"
    }
   },
   "cell_type": "code",
   "source": [
    "# CALCULATE POSITION WEIGHTS\n",
    "# Calculate position weights for _c\n",
    "w_pos_Th_c, w_pos_U_c = get_position_weights(crust_grid, theta_12, grid_1d_size_crust, delta_m_21_squared, A_Th_c, A_U_c, rho_c)\n",
    "w_pos_Th_c = np.nan_to_num(w_pos_Th_c, nan=0)\n",
    "w_pos_U_c = np.nan_to_num(w_pos_U_c, nan=0)\n",
    "print(\"Shape of w_pos_Th_c:\", w_pos_Th_c.shape)\n",
    "print(\"Shape of w_pos_U_c:\", w_pos_U_c.shape)\n",
    "print(\"Position weights computed successfully for c\")\n",
    "\n",
    "# Calculate position weights for _CLM\n",
    "w_pos_Th_CLM, w_pos_U_CLM = get_position_weights(CLM_grid, theta_12, grid_1d_size_mantle, delta_m_21_squared, A_Th_CLM, A_U_CLM, rho_CLM)\n",
    "w_pos_Th_CLM = np.nan_to_num(w_pos_Th_CLM, nan=0)\n",
    "w_pos_U_CLM = np.nan_to_num(w_pos_U_CLM, nan=0)\n",
    "print(\"Shape of w_pos_Th_CLM:\", w_pos_Th_CLM.shape)\n",
    "print(\"Shape of w_pos_U_CLM:\", w_pos_U_CLM.shape)\n",
    "print(\"Position weights computed successfully for CLM\")\n",
    "\n",
    "# Calculate position weights for _DM1\n",
    "w_pos_Th_DM1, w_pos_U_DM1 = get_position_weights(DM_grid1, theta_12, grid_1d_size_mantle, delta_m_21_squared, A_Th_DM1, A_U_DM1, rho_DM)\n",
    "w_pos_Th_DM1 = np.nan_to_num(w_pos_Th_DM1, nan=0)\n",
    "w_pos_U_DM1 = np.nan_to_num(w_pos_U_DM1, nan=0)\n",
    "print(\"Shape of w_pos_Th_DM1:\", w_pos_Th_DM1.shape)\n",
    "print(\"Shape of w_pos_U_DM1:\", w_pos_U_DM1.shape)\n",
    "print(\"Position weights computed successfully for DM1\")\n",
    "\n",
    "# Calculate position weights for _DM2\n",
    "w_pos_Th_DM2, w_pos_U_DM2 = get_position_weights(DM_grid2, theta_12, grid_1d_size_mantle, delta_m_21_squared, A_Th_DM2, A_U_DM2, rho_DM)\n",
    "w_pos_Th_DM2 = np.nan_to_num(w_pos_Th_DM2, nan=0)\n",
    "w_pos_U_DM2 = np.nan_to_num(w_pos_U_DM2, nan=0)\n",
    "print(\"Shape of w_pos_Th_DM2:\", w_pos_Th_DM2.shape)\n",
    "print(\"Shape of w_pos_U_DM2:\", w_pos_U_DM2.shape)\n",
    "print(\"Position weights computed successfully for DM2\")\n",
    "\n",
    "# Calculate position weights for _EM\n",
    "w_pos_Th_EM, w_pos_U_EM = get_position_weights(EM_grid, theta_12, grid_1d_size_mantle, delta_m_21_squared, A_Th_EM, A_U_EM, rho_EM)\n",
    "w_pos_Th_EM = np.nan_to_num(w_pos_Th_EM, nan=0)\n",
    "w_pos_U_EM = np.nan_to_num(w_pos_U_EM, nan=0)\n",
    "print(\"Shape of w_pos_Th_EM:\", w_pos_Th_EM.shape)\n",
    "print(\"Shape of w_pos_U_EM:\", w_pos_U_EM.shape)\n",
    "print(\"Position weights computed successfully for EM\")\n",
    "\n"
   ],
   "id": "22f4d47ad4f868b",
   "outputs": [
    {
     "name": "stdout",
     "output_type": "stream",
     "text": [
      "Relative distance array computed successfully\n",
      "Shape of w_pos_Th_c: (1344768,)\n",
      "Shape of w_pos_U_c: (1344768,)\n",
      "Position weights computed successfully for c\n",
      "Relative distance array computed successfully\n",
      "Shape of w_pos_Th_CLM: (147128,)\n",
      "Shape of w_pos_U_CLM: (147128,)\n",
      "Position weights computed successfully for CLM\n",
      "Relative distance array computed successfully\n",
      "Shape of w_pos_Th_DM1: (540176,)\n",
      "Shape of w_pos_U_DM1: (540176,)\n",
      "Position weights computed successfully for DM1\n",
      "Relative distance array computed successfully\n",
      "Shape of w_pos_Th_DM2: (791944,)\n",
      "Shape of w_pos_U_DM2: (791944,)\n",
      "Position weights computed successfully for DM2\n",
      "Relative distance array computed successfully\n",
      "Shape of w_pos_Th_EM: (260560,)\n",
      "Shape of w_pos_U_EM: (260560,)\n",
      "Position weights computed successfully for EM\n"
     ]
    }
   ],
   "execution_count": 120
  },
  {
   "metadata": {
    "ExecuteTime": {
     "end_time": "2024-06-12T14:18:12.771099Z",
     "start_time": "2024-06-12T14:18:12.768952Z"
    }
   },
   "cell_type": "code",
   "source": [
    "\n",
    "#because we have big arrays, the whole thing needs to be computed in parts"
   ],
   "id": "f731493a1c2f8196",
   "outputs": [],
   "execution_count": 121
  },
  {
   "metadata": {
    "ExecuteTime": {
     "end_time": "2024-06-12T14:18:16.109790Z",
     "start_time": "2024-06-12T14:18:12.771821Z"
    }
   },
   "cell_type": "code",
   "source": [
    "numerator_Th_c = np.nansum(w_pos_Th_c[:, np.newaxis] * w_E_Th * P_ee_c.T)\n",
    "numerator_U_c = np.nansum(w_pos_U_c[:, np.newaxis] * w_E_U * P_ee_c.T)\n",
    "print(\"Numerators computed for c\")\n",
    "\n",
    "numerator_Th_CLM = np.nansum(w_pos_Th_CLM[:, np.newaxis] * w_E_Th * P_ee_CLM.T)\n",
    "numerator_U_CLM = np.nansum(w_pos_U_CLM[:, np.newaxis] * w_E_U * P_ee_CLM.T)\n",
    "print(\"Numerators computed for CLM\")\n",
    "\n",
    "numerator_Th_DM1 = np.nansum(w_pos_Th_DM1[:, np.newaxis] * w_E_Th * P_ee_DM1.T)\n",
    "numerator_U_DM1 = np.nansum(w_pos_U_DM1[:, np.newaxis] * w_E_U * P_ee_DM1.T)\n",
    "print(\"Numerators computed for DM1\")\n",
    "\n",
    "numerator_Th_DM2 = np.nansum(w_pos_Th_DM2[:, np.newaxis] * w_E_Th * P_ee_DM2.T)\n",
    "numerator_U_DM2 = np.nansum(w_pos_U_DM2[:, np.newaxis] * w_E_U * P_ee_DM2.T)\n",
    "print(\"Numerators computed for DM2\")\n",
    "\n",
    "numerator_Th_EM = np.nansum(w_pos_Th_EM[:, np.newaxis] * w_E_Th * P_ee_EM.T)\n",
    "numerator_U_EM = np.nansum(w_pos_U_EM[:, np.newaxis] * w_E_U * P_ee_EM.T)\n",
    "print(\"Numerators computed for EM\")\n",
    "\n"
   ],
   "id": "dc7e13ae03de489f",
   "outputs": [
    {
     "name": "stdout",
     "output_type": "stream",
     "text": [
      "Numerators computed for c\n",
      "Numerators computed for CLM\n",
      "Numerators computed for DM1\n",
      "Numerators computed for DM2\n",
      "Numerators computed for EM\n"
     ]
    }
   ],
   "execution_count": 122
  },
  {
   "metadata": {
    "ExecuteTime": {
     "end_time": "2024-06-12T14:18:18.587146Z",
     "start_time": "2024-06-12T14:18:16.110963Z"
    }
   },
   "cell_type": "code",
   "source": [
    "denominator_Th_c = np.nansum(w_pos_Th_c[:, np.newaxis] * w_E_Th)\n",
    "denominator_U_c = np.nansum(w_pos_U_c[:, np.newaxis] * w_E_U)\n",
    "print(\"Denominators computed for c\")\n",
    "\n",
    "denominator_Th_CLM = np.nansum(w_pos_Th_CLM[:, np.newaxis] * w_E_Th)\n",
    "denominator_U_CLM = np.nansum(w_pos_U_CLM[:, np.newaxis] * w_E_U)\n",
    "print(\"Denominators computed for CLM\")\n",
    "\n",
    "denominator_Th_DM1 = np.nansum(w_pos_Th_DM1[:, np.newaxis] * w_E_Th)\n",
    "denominator_U_DM1 = np.nansum(w_pos_U_DM1[:, np.newaxis] * w_E_U)\n",
    "print(\"Denominators computed for DM1\")\n",
    "\n",
    "denominator_Th_DM2 = np.nansum(w_pos_Th_DM2[:, np.newaxis] * w_E_Th)\n",
    "denominator_U_DM2 = np.nansum(w_pos_U_DM2[:, np.newaxis] * w_E_U)\n",
    "print(\"Denominators computed for DM2\")\n",
    "\n",
    "denominator_Th_EM = np.nansum(w_pos_Th_EM[:, np.newaxis] * w_E_Th)\n",
    "denominator_U_EM = np.nansum(w_pos_U_EM[:, np.newaxis] * w_E_U)\n",
    "print(\"Denominators computed for EM\")\n"
   ],
   "id": "dfb5df75fc0dcd24",
   "outputs": [
    {
     "name": "stdout",
     "output_type": "stream",
     "text": [
      "Denominators computed for c\n",
      "Denominators computed for CLM\n",
      "Denominators computed for DM1\n",
      "Denominators computed for DM2\n",
      "Denominators computed for EM\n"
     ]
    }
   ],
   "execution_count": 123
  },
  {
   "metadata": {
    "ExecuteTime": {
     "end_time": "2024-06-12T14:18:18.591025Z",
     "start_time": "2024-06-12T14:18:18.588208Z"
    }
   },
   "cell_type": "code",
   "source": [
    "#calculate average P_ee\n",
    "\n",
    "P_ee_average = (numerator_Th_c + numerator_Th_CLM + numerator_Th_DM1 + numerator_Th_DM2 + numerator_Th_EM + numerator_U_c + numerator_U_CLM + numerator_U_DM1 + numerator_U_DM2 + numerator_U_EM) / (denominator_Th_c + denominator_Th_CLM + denominator_Th_DM1 + denominator_Th_DM2 + denominator_Th_EM + denominator_U_c + denominator_U_CLM + denominator_U_DM1 + denominator_U_DM2 + denominator_U_EM)\n",
    "\n",
    "print(\"Average of P_ee:\", P_ee_average)"
   ],
   "id": "938fc3bf47d49291",
   "outputs": [
    {
     "name": "stdout",
     "output_type": "stream",
     "text": [
      "Average of P_ee: 0.524537515107165\n"
     ]
    }
   ],
   "execution_count": 124
  },
  {
   "metadata": {
    "ExecuteTime": {
     "end_time": "2024-06-12T14:18:22.957910Z",
     "start_time": "2024-06-12T14:18:18.591889Z"
    }
   },
   "cell_type": "code",
   "source": [
    "# now calculate stdev\n",
    "# Calculate numerator for _c with adjustment by average\n",
    "numerator_var_Th_c = np.nansum(w_pos_Th_c[:, np.newaxis] * w_E_Th * (P_ee_c.T - P_ee_average)**2)\n",
    "numerator_var_U_c = np.nansum(w_pos_U_c[:, np.newaxis] * w_E_U * (P_ee_c.T - P_ee_average))\n",
    "print(\"Numerators computed for c\")\n",
    "\n",
    "# Calculate numerator for _CLM with adjustment by average\n",
    "numerator_var_Th_CLM = np.nansum(w_pos_Th_CLM[:, np.newaxis] * w_E_Th * (P_ee_CLM.T - P_ee_average)**2)\n",
    "numerator_var_U_CLM = np.nansum(w_pos_U_CLM[:, np.newaxis] * w_E_U * (P_ee_CLM.T - P_ee_average))\n",
    "print(\"Numerators computed for CLM\")\n",
    "\n",
    "# Calculate numerator for _DM1 with adjustment by average\n",
    "numerator_var_Th_DM1 = np.nansum(w_pos_Th_DM1[:, np.newaxis] * w_E_Th * (P_ee_DM1.T - P_ee_average)**2)\n",
    "numerator_var_U_DM1 = np.nansum(w_pos_U_DM1[:, np.newaxis] * w_E_U * (P_ee_DM1.T - P_ee_average))\n",
    "print(\"Numerators computed for DM1\")\n",
    "\n",
    "# Calculate numerator for _DM2 with adjustment by average\n",
    "numerator_var_Th_DM2 = np.nansum(w_pos_Th_DM2[:, np.newaxis] * w_E_Th * (P_ee_DM2.T - P_ee_average)**2)\n",
    "numerator_var_U_DM2 = np.nansum(w_pos_U_DM2[:, np.newaxis] * w_E_U * (P_ee_DM2.T - P_ee_average))\n",
    "print(\"Numerators computed for DM2\")\n",
    "\n",
    "# Calculate numerator for _EM with adjustment by average\n",
    "numerator_var_Th_EM = np.nansum(w_pos_Th_EM[:, np.newaxis] * w_E_Th * (P_ee_EM.T - P_ee_average)**2)\n",
    "numerator_var_U_EM = np.nansum(w_pos_U_EM[:, np.newaxis] * w_E_U * (P_ee_EM.T - P_ee_average))\n",
    "print(\"Numerators computed for EM\")"
   ],
   "id": "f308725f7aaca204",
   "outputs": [
    {
     "name": "stdout",
     "output_type": "stream",
     "text": [
      "Numerators computed for c\n",
      "Numerators computed for CLM\n",
      "Numerators computed for DM1\n",
      "Numerators computed for DM2\n",
      "Numerators computed for EM\n"
     ]
    }
   ],
   "execution_count": 125
  },
  {
   "metadata": {
    "ExecuteTime": {
     "end_time": "2024-06-12T14:18:22.962027Z",
     "start_time": "2024-06-12T14:18:22.959236Z"
    }
   },
   "cell_type": "code",
   "source": [
    "P_ee_variance = (numerator_var_Th_c + numerator_var_Th_CLM + numerator_var_Th_DM1 + numerator_var_Th_DM2 + numerator_var_Th_EM + numerator_var_U_c + numerator_var_U_CLM + numerator_var_U_DM1 + numerator_var_U_DM2 + numerator_var_U_EM) / (denominator_Th_c + denominator_Th_CLM + denominator_Th_DM1 + denominator_Th_DM2 + denominator_Th_EM + denominator_U_c + denominator_U_CLM + denominator_U_DM1 + denominator_U_DM2 + denominator_U_EM)\n",
    "\n",
    "print(\"P_ee_variance:\", P_ee_variance)"
   ],
   "id": "15d5311aba4df645",
   "outputs": [
    {
     "name": "stdout",
     "output_type": "stream",
     "text": [
      "P_ee_variance: 0.005259669960816898\n"
     ]
    }
   ],
   "execution_count": 126
  },
  {
   "metadata": {},
   "cell_type": "markdown",
   "source": "",
   "id": "bc8a5839fab5886"
  },
  {
   "metadata": {
    "ExecuteTime": {
     "end_time": "2024-06-12T14:18:22.983923Z",
     "start_time": "2024-06-12T14:18:22.963258Z"
    }
   },
   "cell_type": "code",
   "source": [
    "P_ee_stdev = np.sqrt(P_ee_variance)\n",
    "print(\"Standard Deviation (stdev):\", P_ee_stdev)"
   ],
   "id": "108bcb9886445943",
   "outputs": [
    {
     "name": "stdout",
     "output_type": "stream",
     "text": [
      "Standard Deviation (stdev): 0.07252358210138891\n"
     ]
    }
   ],
   "execution_count": 127
  },
  {
   "metadata": {
    "ExecuteTime": {
     "end_time": "2024-06-12T13:51:16.256643Z",
     "start_time": "2024-06-12T13:51:16.254881Z"
    }
   },
   "cell_type": "code",
   "source": "",
   "id": "e8af36bb05946995",
   "outputs": [],
   "execution_count": 64
  },
  {
   "metadata": {},
   "cell_type": "code",
   "outputs": [],
   "execution_count": null,
   "source": "",
   "id": "c6258d8d73271ccc"
  }
 ],
 "metadata": {
  "kernelspec": {
   "display_name": "Python 3",
   "language": "python",
   "name": "python3"
  },
  "language_info": {
   "codemirror_mode": {
    "name": "ipython",
    "version": 2
   },
   "file_extension": ".py",
   "mimetype": "text/x-python",
   "name": "python",
   "nbconvert_exporter": "python",
   "pygments_lexer": "ipython2",
   "version": "2.7.6"
  }
 },
 "nbformat": 4,
 "nbformat_minor": 5
}
