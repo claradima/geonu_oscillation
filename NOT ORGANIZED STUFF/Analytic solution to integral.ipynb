{
 "cells": [
  {
   "metadata": {},
   "cell_type": "markdown",
   "source": "It takes way too long to perform the numerical integrals with a fine enough grid, so I will just solve the integral analytically (when I say I, I mean using online calculators of course). We will be using the full 3-flavour formula (you can find it in the slides) with the assumption that $\\delta m_{31}^2 = \\delta m_{32}^2$, so we can use $\\sin^2 + \\cos^2 = 1$ to simplify things",
   "id": "12596c49f57611bd"
  },
  {
   "metadata": {},
   "cell_type": "markdown",
   "source": [
    "Use the following notation:\n",
    "$$\\cos^2 \\theta_{13} \\sin^2 2\\theta_{12} = A$$\n",
    "$$\\sin^2 2\\theta_{13} = B$$\n",
    "$$1.27\\delta m_{21}^2 = C$$\n",
    "$$1.27\\delta m_{32}^2 = D$$"
   ],
   "id": "bad43bd56e189c0d"
  },
  {
   "metadata": {},
   "cell_type": "markdown",
   "source": [
    "The integral we are trying to calculate becomes:\n",
    "\n",
    "$$\\int \\limits_{R}^{-R} dx \\int \\limits_{\\sqrt{R^2 - x^2}}^{-\\sqrt{R^2 - x^2}} dy \\int \\limits_{R - 2 + \\sqrt{R^2 - x^2 - y^2}}^{R - 2 + \\sqrt{R^2 - x^2 - y^2}} dz \\frac{1 - A \\sin^2(\\frac{C}{E}\\sqrt{x^2 + y^2 + z^2}) - B \\sin^2(\\frac{D}{E}\\sqrt{x^2 + y^2 + z^2})}{x^2 + y^2 + z^2}$$"
   ],
   "id": "b843773ded4fc4aa"
  },
  {
   "metadata": {},
   "cell_type": "markdown",
   "source": "Of course, that looks disgusting. Try (reluctantly. lacking hope) wolfram alpha\n",
   "id": "2a33fab140f4dab8"
  },
  {
   "metadata": {},
   "cell_type": "markdown",
   "source": "I tried a bunch of online calculators and it didn't really work :(",
   "id": "de38383d90af9694"
  },
  {
   "metadata": {},
   "cell_type": "code",
   "outputs": [],
   "execution_count": null,
   "source": "",
   "id": "f158ce045d65688a"
  }
 ],
 "metadata": {
  "kernelspec": {
   "display_name": "Python 3",
   "language": "python",
   "name": "python3"
  },
  "language_info": {
   "codemirror_mode": {
    "name": "ipython",
    "version": 2
   },
   "file_extension": ".py",
   "mimetype": "text/x-python",
   "name": "python",
   "nbconvert_exporter": "python",
   "pygments_lexer": "ipython2",
   "version": "2.7.6"
  }
 },
 "nbformat": 4,
 "nbformat_minor": 5
}
