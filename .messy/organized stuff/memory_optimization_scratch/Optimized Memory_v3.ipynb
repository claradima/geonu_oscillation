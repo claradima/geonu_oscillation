{
 "cells": [
  {
   "cell_type": "code",
   "execution_count": null,
   "id": "initial_id",
   "metadata": {
    "collapsed": true
   },
   "outputs": [],
   "source": "# I need all the variables I'm plotting in the same file to compare them ... shit! :)"
  },
  {
   "metadata": {},
   "cell_type": "code",
   "outputs": [],
   "execution_count": null,
   "source": [
    "import numpy as np\n",
    "import matplotlib.pyplot as plt\n",
    "import sys\n",
    "print(\"imports successful\")\n",
    "\n",
    "grid_count_crust = 640 # would need 637.1 for 20 km spacing\n",
    "#1275 for 5 km spacing\n",
    "coordinates = np.linspace(-6371, 6371, grid_count_crust)\n",
    "grid_1d_size_crust = coordinates[1]-coordinates[0]\n",
    "\n",
    "# Generate the grid coordinates using meshgrid\n",
    "x_coordinates, y_coordinates, z_coordinates = np.meshgrid(coordinates, coordinates, coordinates)\n",
    "\n",
    "# Calculate the distance of each point from the origin using vectorized operations\n",
    "distances_squared = x_coordinates**2 + y_coordinates**2 + z_coordinates**2\n",
    "\n",
    "# Find indices where distance is less than or equal to the radius squared\n",
    "crust_indices = np.logical_and(6350**2 < distances_squared, distances_squared <= 6371**2)\n",
    "\n",
    "# Extract valid coordinates using boolean indexing\n",
    "crust_grid = np.stack((x_coordinates[crust_indices], y_coordinates[crust_indices], z_coordinates[crust_indices]), axis=-1)\n",
    "\n",
    "print(\"crust grid created successfully\")\n"
   ],
   "id": "c15da141079a20d"
  },
  {
   "metadata": {},
   "cell_type": "code",
   "outputs": [],
   "execution_count": null,
   "source": [
    "grid_count_mantle = 160 # would need 637.1 for 20 km spacing\n",
    "#320 for 40 km spacing\n",
    "#285 for 45 km spacing\n",
    "#215 for 60km spacing\n",
    "#160 for 80km spacing\n",
    "coordinates = np.linspace(-6371, 6371, grid_count_mantle)\n",
    "grid_1d_size_mantle = coordinates[1]-coordinates[0]\n",
    "\n",
    "# Generate the grid coordinates using meshgrid\n",
    "x_coordinates, y_coordinates, z_coordinates = np.meshgrid(coordinates, coordinates, coordinates)\n",
    "\n",
    "# Calculate the distance of each point from the origin using vectorized operations\n",
    "distances_squared = x_coordinates**2 + y_coordinates**2 + z_coordinates**2"
   ],
   "id": "d2bc2fb2b10711ca"
  },
  {
   "metadata": {},
   "cell_type": "code",
   "outputs": [],
   "execution_count": null,
   "source": [
    "CLM_indices = np.logical_and(6196**2 < distances_squared, distances_squared <= 6350**2)\n",
    "CLM_grid = np.stack((x_coordinates[CLM_indices], y_coordinates[CLM_indices], z_coordinates[CLM_indices]), axis=-1)"
   ],
   "id": "f78667415c1a0478"
  },
  {
   "metadata": {},
   "cell_type": "code",
   "outputs": [],
   "execution_count": null,
   "source": [
    "# MANY LITTLE DM LAYERS\n",
    "\n",
    "#DM is between 4202 amd 6196\n",
    "#a's are just limits of the mini layers to constrain the radius\n",
    "\n",
    "a0 = 4202\n",
    "a1 = 4300\n",
    "a2 = 4400\n",
    "a3 = 4500\n",
    "a4 = 4600\n",
    "a5 = 4700\n",
    "a6 = 4800\n",
    "a7 = 4900\n",
    "a8 = 5000\n",
    "a9 = 5100\n",
    "a10 = 5200\n",
    "a11 = 5300\n",
    "a12 = 5400\n",
    "a13 = 5500\n",
    "a14 = 5600\n",
    "a15 = 5700\n",
    "a16 = 5800\n",
    "a17 = 5900\n",
    "a18 = 6100\n",
    "a19 = 6196\n",
    "\n",
    "a_values = np.array([a0, a1, a2, a3, a4, a5, a6, a7, a8, a9, a10, a11, a12, a13, a14, a15, a16, a17, a18, a19])\n",
    "\n",
    "# Initialize an empty object array to hold the DM grids\n",
    "DM_grids = np.empty(len(a_values) - 1, dtype=object)\n",
    "DM_indices_array = np.empty(len(a_values) - 1, dtype=object)\n",
    "\n",
    "for i in range(len(a_values) - 1):\n",
    "    DM_indices = np.logical_and(a_values[i]**2 < distances_squared, distances_squared <= a_values[i + 1]**2)\n",
    "    try:\n",
    "        # Attempt to create the DM_grid\n",
    "        DM_grid = np.stack((x_coordinates[DM_indices], y_coordinates[DM_indices], z_coordinates[DM_indices]), axis=-1)\n",
    "        \n",
    "        # Store the DM_grid and DM_indices in the object arrays\n",
    "        DM_grids[i] = DM_grid\n",
    "        DM_indices_array[i] = DM_indices\n",
    "        \n",
    "        print(f\"DM{i+1} grid done, limits: {a_values[i]} , {a_values[i + 1]}\")\n",
    "    \n",
    "    except MemoryError:\n",
    "        # Catch memory errors and print a message\n",
    "        print(f\"MemoryError encountered while creating DM{i+1} grid with limits: {a_values[i]} , {a_values[i + 1]}\")\n",
    "\n"
   ],
   "id": "db15284c9833d5d6"
  },
  {
   "metadata": {},
   "cell_type": "code",
   "outputs": [],
   "execution_count": null,
   "source": [
    "# TWO BIG DM LAYERS\n",
    "\n",
    "DM_indices1 = np.logical_and(4202**2 < distances_squared, distances_squared <= 5200**2)\n",
    "DM_grid1 = np.stack((x_coordinates[DM_indices1], y_coordinates[DM_indices1], z_coordinates[DM_indices1]), axis=-1)\n",
    "\n",
    "DM_indices2 = np.logical_and(5200**2 < distances_squared, distances_squared <= 6196**2)\n",
    "DM_grid2 = np.stack((x_coordinates[DM_indices2], y_coordinates[DM_indices2], z_coordinates[DM_indices2]), axis=-1)"
   ],
   "id": "3d7eee9d13a2511f"
  },
  {
   "metadata": {},
   "cell_type": "code",
   "outputs": [],
   "execution_count": null,
   "source": "# MANY LITTLE EM LAYERS",
   "id": "47bd51d6ea974898"
  }
 ],
 "metadata": {
  "kernelspec": {
   "display_name": "Python 3",
   "language": "python",
   "name": "python3"
  },
  "language_info": {
   "codemirror_mode": {
    "name": "ipython",
    "version": 2
   },
   "file_extension": ".py",
   "mimetype": "text/x-python",
   "name": "python",
   "nbconvert_exporter": "python",
   "pygments_lexer": "ipython2",
   "version": "2.7.6"
  }
 },
 "nbformat": 4,
 "nbformat_minor": 5
}
